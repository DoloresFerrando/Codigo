{
 "cells": [
  {
   "attachments": {},
   "cell_type": "markdown",
   "metadata": {},
   "source": [
    "Este programa trae de la página datos.gob.ar los datos correspondientes a las ventas mensuales en supermercados a precios CORRIENTES en Argentina desde enero de 2017.\n",
    "Unidad: Millones de pesos\n",
    "Toma la serie y la guarda en un .csv con la fecha y el valor de la serie. Desde la página del Indec\n",
    "se puede recuperar la serie histórica hasta 1996 hasta 2007, se agrega para tener la serie desde 1996.\n",
    "EN ESTE CASO SE CORRIÓ HASTA ENERO DE 2023\n",
    "La serie quedó desde enero de 1996 hasta enero de 2023."
   ]
  },
  {
   "cell_type": "code",
   "execution_count": 2,
   "metadata": {},
   "outputs": [],
   "source": [
    "import pandas as pd\n",
    "import urllib.parse\n",
    "def get_api_call(ids, **kwargs):\n",
    "    API_BASE_URL = \"https://apis.datos.gob.ar/series/api/\"\n",
    "    kwargs[\"ids\"] = \",\".join(ids)\n",
    "    return \"{}{}?{}\".format(API_BASE_URL, \"series\", urllib.parse.urlencode(kwargs))"
   ]
  },
  {
   "attachments": {},
   "cell_type": "markdown",
   "metadata": {},
   "source": [
    "Cargo la serie y le agrego la histórica"
   ]
  },
  {
   "cell_type": "code",
   "execution_count": 3,
   "metadata": {},
   "outputs": [],
   "source": [
    "dfc = pd.read_csv(get_api_call(\n",
    "    [\"455.1_VENTAS_PRETES_0_M_25_30\"],\n",
    "    format=\"csv\", start_date=2017\n",
    "))\n"
   ]
  },
  {
   "cell_type": "code",
   "execution_count": 5,
   "metadata": {},
   "outputs": [
    {
     "name": "stdout",
     "output_type": "stream",
     "text": [
      "   indice_tiempo  ventas_precios_corrientes\n",
      "0     2017-01-01               27858.872083\n",
      "1     2017-02-01               25994.200168\n",
      "2     2017-03-01               27780.006522\n",
      "3     2017-04-01               29134.272221\n",
      "4     2017-05-01               27969.004677\n",
      "..           ...                        ...\n",
      "68    2022-09-01              232153.157225\n",
      "69    2022-10-01              265665.688890\n",
      "70    2022-11-01              284825.273120\n",
      "71    2022-12-01              359730.267987\n",
      "72    2023-01-01              316671.875716\n",
      "\n",
      "[73 rows x 2 columns]\n"
     ]
    }
   ],
   "source": [
    "print(dfc)"
   ]
  },
  {
   "cell_type": "markdown",
   "metadata": {},
   "source": [
    "Concateno la serie historica de precios corrientes"
   ]
  },
  {
   "cell_type": "code",
   "execution_count": 6,
   "metadata": {},
   "outputs": [
    {
     "name": "stdout",
     "output_type": "stream",
     "text": [
      "   indice_tiempo  ventas_precios_corrientes\n",
      "0     1996-01-01                 998.770000\n",
      "1     1996-02-01                1022.710000\n",
      "2     1996-03-01                1149.270000\n",
      "3     1996-04-01                1077.440000\n",
      "4     1996-05-01                1050.080000\n",
      "..           ...                        ...\n",
      "68    2022-09-01              232153.157225\n",
      "69    2022-10-01              265665.688890\n",
      "70    2022-11-01              284825.273120\n",
      "71    2022-12-01              359730.267987\n",
      "72    2023-01-01              316671.875716\n",
      "\n",
      "[325 rows x 2 columns]\n"
     ]
    }
   ],
   "source": [
    "serieSHistcorr = pd.read_csv('CorrHist.csv', delimiter=',')\n",
    "\n",
    "serieScorr=pd.concat([serieSHistcorr,dfc])\n",
    "print(serieScorr)"
   ]
  },
  {
   "cell_type": "markdown",
   "metadata": {},
   "source": [
    "Lo guardo en un csv para análisis posterior"
   ]
  },
  {
   "cell_type": "code",
   "execution_count": 8,
   "metadata": {},
   "outputs": [],
   "source": [
    "serieScorr.to_csv(\"serieScorr.csv\",index=False)"
   ]
  }
 ],
 "metadata": {
  "kernelspec": {
   "display_name": "Python 3.6.13 ('mne3')",
   "language": "python",
   "name": "python3"
  },
  "language_info": {
   "codemirror_mode": {
    "name": "ipython",
    "version": 3
   },
   "file_extension": ".py",
   "mimetype": "text/x-python",
   "name": "python",
   "nbconvert_exporter": "python",
   "pygments_lexer": "ipython3",
   "version": "3.6.13"
  },
  "orig_nbformat": 4,
  "vscode": {
   "interpreter": {
    "hash": "59c8c3d4489fbe6c1c06c0da5c4d3b293e5a0943bafa3f28ed805c180e8c2051"
   }
  }
 },
 "nbformat": 4,
 "nbformat_minor": 2
}
