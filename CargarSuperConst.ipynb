{
 "cells": [
  {
   "attachments": {},
   "cell_type": "markdown",
   "metadata": {},
   "source": [
    "Este programa trae de la página datos.gob.ar los datos correspondientes a las ventas mensuales en supermercados a precios CONSTANTES en Argentina desde enero de 2017.\n",
    "Unidad: Millones de pesos\n",
    "Toma la serie y la guarda en un .csv con la fecha y el valor de la serie.\n",
    "EN ESTE CASO SE CORRIÓ HASTA ENERO DE 2023\n",
    "La serie quedó desde enero de 2017 hasta enero de 2023."
   ]
  },
  {
   "cell_type": "code",
   "execution_count": 1,
   "metadata": {},
   "outputs": [],
   "source": [
    "import pandas as pd\n",
    "import urllib.parse\n",
    "def get_api_call(ids, **kwargs):\n",
    "    API_BASE_URL = \"https://apis.datos.gob.ar/series/api/\"\n",
    "    kwargs[\"ids\"] = \",\".join(ids)\n",
    "    return \"{}{}?{}\".format(API_BASE_URL, \"series\", urllib.parse.urlencode(kwargs))"
   ]
  },
  {
   "attachments": {},
   "cell_type": "markdown",
   "metadata": {},
   "source": [
    "Cargo la serie"
   ]
  },
  {
   "cell_type": "code",
   "execution_count": 2,
   "metadata": {},
   "outputs": [],
   "source": [
    "df = pd.read_csv(get_api_call(\n",
    "    [\"455.1_VENTAS_PRETES_0_M_25_98\"],\n",
    "    format=\"csv\", start_date=2017\n",
    "))\n"
   ]
  },
  {
   "cell_type": "code",
   "execution_count": 3,
   "metadata": {},
   "outputs": [
    {
     "name": "stdout",
     "output_type": "stream",
     "text": [
      "   indice_tiempo  ventas_precios_constantes\n",
      "0     2017-01-01               27477.307666\n",
      "1     2017-02-01               25223.428860\n",
      "2     2017-03-01               26334.263640\n",
      "3     2017-04-01               27045.884463\n",
      "4     2017-05-01               25631.863992\n",
      "..           ...                        ...\n",
      "68    2022-09-01               23136.675584\n",
      "69    2022-10-01               24989.575744\n",
      "70    2022-11-01               25641.375803\n",
      "71    2022-12-01               30979.740546\n",
      "72    2023-01-01               25676.036312\n",
      "\n",
      "[73 rows x 2 columns]\n"
     ]
    }
   ],
   "source": [
    "print(df)"
   ]
  },
  {
   "cell_type": "markdown",
   "metadata": {},
   "source": [
    "Lo guardo en un csv para análisis posterior"
   ]
  },
  {
   "cell_type": "code",
   "execution_count": 14,
   "metadata": {},
   "outputs": [],
   "source": [
    "df.to_csv(\"serieSconst.csv\",index=False)"
   ]
  }
 ],
 "metadata": {
  "kernelspec": {
   "display_name": "Python 3.6.13 ('mne3')",
   "language": "python",
   "name": "python3"
  },
  "language_info": {
   "codemirror_mode": {
    "name": "ipython",
    "version": 3
   },
   "file_extension": ".py",
   "mimetype": "text/x-python",
   "name": "python",
   "nbconvert_exporter": "python",
   "pygments_lexer": "ipython3",
   "version": "3.6.13 |Anaconda, Inc.| (default, Mar 16 2021, 11:37:27) [MSC v.1916 64 bit (AMD64)]"
  },
  "orig_nbformat": 4,
  "vscode": {
   "interpreter": {
    "hash": "59c8c3d4489fbe6c1c06c0da5c4d3b293e5a0943bafa3f28ed805c180e8c2051"
   }
  }
 },
 "nbformat": 4,
 "nbformat_minor": 2
}
